{
 "cells": [
  {
   "cell_type": "markdown",
   "id": "513a87d6",
   "metadata": {},
   "source": [
    "# Example of a use of Python-DP library \n",
    "## Safety, Privacy and Legal Aspects"
   ]
  },
  {
   "cell_type": "code",
   "execution_count": null,
   "id": "2a401568",
   "metadata": {},
   "outputs": [],
   "source": [
    "# Install PyDP\n",
    "!pip install python-dp"
   ]
  },
  {
   "cell_type": "code",
   "execution_count": null,
   "id": "4a8536e8",
   "metadata": {},
   "outputs": [],
   "source": [
    "import numpy as np\n",
    "import pandas as pd\n",
    "import matplotlib.pyplot as plt\n",
    "\n",
    "import pydp as dp\n",
    "from pydp.algorithms.laplacian import BoundedMean\n",
    "from pydp.algorithms.laplacian import BoundedSum\n",
    "\n",
    "# ... other libraries if you need"
   ]
  },
  {
   "cell_type": "markdown",
   "id": "b7038835",
   "metadata": {},
   "source": [
    "#### Download from https://cnecovid.isciii.es/covid19/ the file *casos_tecnica_ccaa.csv* (available in *Documentación y datos*), which contains the number of daily covid cases in Spain by CCAA. Keep only the cases for the year 2021."
   ]
  },
  {
   "cell_type": "code",
   "execution_count": null,
   "id": "adb246d2",
   "metadata": {},
   "outputs": [],
   "source": [
    "df_covid = pd.read_csv('casos_tecnica_ccaa.csv')\n",
    "..."
   ]
  },
  {
   "cell_type": "markdown",
   "id": "5b054062",
   "metadata": {},
   "source": [
    "####  Obtain the average number and total number of daily cases by Covid-19 for each month of 2021 (considering the daily cases of all CCAA). You can group the data by months as you like, e.g. you can use pd.DatetimeIndex. You can use loops to fill the vectors total_cases_month and mean_cases_month."
   ]
  },
  {
   "cell_type": "code",
   "execution_count": null,
   "id": "7c61c63c",
   "metadata": {},
   "outputs": [],
   "source": [
    "total_cases_month = ... # At coordinate i, the total cases for month i+1\n",
    "mean_cases_month = ... # At coordinate i, the average number of cases for month i+1"
   ]
  },
  {
   "cell_type": "markdown",
   "id": "63963c25",
   "metadata": {},
   "source": [
    "####  Show the results obtained per month:"
   ]
  },
  {
   "cell_type": "code",
   "execution_count": null,
   "id": "4262693e",
   "metadata": {},
   "outputs": [],
   "source": [
    "for i in range(12):\n",
    "    print(f'Month: {i+1}. Total cases: {total_cases_month[i]} --- Mean: {mean_cases_month[i]} \\n')"
   ]
  },
  {
   "cell_type": "markdown",
   "id": "d7f033d5",
   "metadata": {},
   "source": [
    "#### Obtain the average number and total number of cases by applying differential privacy. Specifically, use *BoundedSum* and *BoundedMean* from the Python PyDP library. See https://github.com/OpenMined/PyDP."
   ]
  },
  {
   "cell_type": "code",
   "execution_count": null,
   "id": "428773e9",
   "metadata": {},
   "outputs": [],
   "source": [
    "privacy_budget = ... # You can try different values (between 0 and 1) and observe what \n",
    "                     # happens as this value increases or decreases.\n",
    "\n",
    "total_cases_month_dp = ...\n",
    "mean_cases_month_dp = ..."
   ]
  },
  {
   "cell_type": "markdown",
   "id": "7f6f3883",
   "metadata": {},
   "source": [
    "#### Show the results obtained for each month with and without applying DP:"
   ]
  },
  {
   "cell_type": "code",
   "execution_count": null,
   "id": "320b25c7",
   "metadata": {},
   "outputs": [],
   "source": [
    "for i in range(12)\n",
    "    print(f'Month: {i+1}. Total cases: {total_cases_month[i]} --- Total cases (DP): {total_cases_month_dp[i]}')\n",
    "    print(f'Month: {i+1}. Mean cases: {mean_cases_month[i]} --- Mean cases (DP): {mean_cases_month_dp[i]} \\n')"
   ]
  },
  {
   "cell_type": "markdown",
   "id": "1572b0a2",
   "metadata": {},
   "source": [
    "#### Compare in two bar plots the results obtained in each case applying and not applying DP (i.e *Total cases per month vs. Total cases per month with DP* and *Mean cases per month vs Mean cases per month with DP*)."
   ]
  },
  {
   "cell_type": "code",
   "execution_count": null,
   "id": "d1228190",
   "metadata": {},
   "outputs": [],
   "source": []
  }
 ],
 "metadata": {
  "kernelspec": {
   "display_name": "Python 3 (ipykernel)",
   "language": "python",
   "name": "python3"
  },
  "language_info": {
   "codemirror_mode": {
    "name": "ipython",
    "version": 3
   },
   "file_extension": ".py",
   "mimetype": "text/x-python",
   "name": "python",
   "nbconvert_exporter": "python",
   "pygments_lexer": "ipython3",
   "version": "3.8.2"
  }
 },
 "nbformat": 4,
 "nbformat_minor": 5
}
