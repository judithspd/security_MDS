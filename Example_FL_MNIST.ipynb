{
 "cells": [
  {
   "cell_type": "markdown",
   "id": "51ffeded",
   "metadata": {},
   "source": [
    "# EXAMPLE OF FEDERATED LEARNING APPLICATION\n",
    "## Safety, Privacy and Legal Aspects"
   ]
  },
  {
   "cell_type": "code",
   "execution_count": null,
   "id": "1ed13a68",
   "metadata": {},
   "outputs": [],
   "source": [
    "import numpy as np\n",
    "import tensorflow as tf\n",
    "import keras\n",
    "\n",
    "from keras.datasets import mnist\n",
    "# ... other libraries you need"
   ]
  },
  {
   "cell_type": "code",
   "execution_count": null,
   "id": "d83322a8",
   "metadata": {},
   "outputs": [],
   "source": [
    "# Read the MNIST data and process it. You can use reshape form numpy and to_categorical from \n",
    "# tensorflow.keras.utils\n",
    "X_train = ...\n",
    "y_train = ...\n",
    "\n",
    "X_test = ...\n",
    "y_test = ..."
   ]
  },
  {
   "cell_type": "code",
   "execution_count": null,
   "id": "3489d887",
   "metadata": {},
   "outputs": [],
   "source": [
    "# Create 3 clients from the train data. You can do it as you prefer, either using slices \n",
    "# (e.g. client1_x = X_train[:len(X_train)//3]), creating a function that makes it automatic according\n",
    "# to the number of clients desired (remember that two different customers cannot have data in common),\n",
    "# or any other way you can think of.\n",
    "client1_x = ...\n",
    "client1_y = ...\n",
    "\n",
    "client2_x = ...\n",
    "client2_y = ...\n",
    "\n",
    "client3_x = ...\n",
    "client3_y = ..."
   ]
  },
  {
   "cell_type": "code",
   "execution_count": null,
   "id": "72459669",
   "metadata": {},
   "outputs": [],
   "source": [
    "print(f'''Number of data for each customer: \\n \\t Client 1: {len(client1_x)}\n",
    "     \\t Client 2: {len(client2_x)} \\n \\t Client 3: {len(client3_x)}''')"
   ]
  },
  {
   "cell_type": "code",
   "execution_count": null,
   "id": "fd0ce61d",
   "metadata": {},
   "outputs": [],
   "source": [
    "# Check that the clients have been created correctly (that there is the same number of data in X_train as adding\n",
    "# up all clients)\n",
    "assert sum([len(client1_x), len(client2_x), len(client3_x)]) == len(X_train), 'Clients have not been created correctly'"
   ]
  },
  {
   "cell_type": "code",
   "execution_count": null,
   "id": "49e1a12e",
   "metadata": {},
   "outputs": [],
   "source": [
    "# Create the model (neural network) with the layers you consider\n",
    "model = Sequential()\n",
    "model.add(...)\n",
    "# If you wish you can modify the way the model is compiled\n",
    "model.compile(loss = 'categorical_crossentropy',\n",
    "              optimizer = 'rmsprop',\n",
    "              metrics = ['accuracy'])\n",
    "model.summary()"
   ]
  },
  {
   "cell_type": "code",
   "execution_count": null,
   "id": "0e3198c9",
   "metadata": {},
   "outputs": [],
   "source": [
    "# Get the initial weights:\n",
    "initial_weights = ...\n",
    "# Train for the first client (the model now has the initial weights):\n",
    "...\n",
    "model.fit(...)\n",
    "# Obtain client 1 weights:\n",
    "weights_client1 = ...\n",
    "\n",
    "# Train for the second client (remember to give the model the initial weights).\n",
    "...\n",
    "model.fit(...)\n",
    "# Get the weights for client 2: \n",
    "weights_client2 = ...\n",
    "\n",
    "# Train for the third client (emember to set the initial weights for the model).\n",
    "...\n",
    "model.fit(...)\n",
    "# Get the weights for client 3: \n",
    "weights_client3 = ...\n",
    "\n",
    "# Aggregate the weights obtained with each client using an aggregation function that performs a weighted average:\n",
    "avg_weights = ...\n",
    "# Save the resulting model, you will use it to train on the test set:\n",
    "model.save('model1.h5')\n",
    "\n",
    "# Repeat the above process 2 more times (you can use a loop if you wish). Remember to update the weights\n",
    "# of the model as corresponds in each case "
   ]
  },
  {
   "cell_type": "markdown",
   "id": "d5676ff0",
   "metadata": {},
   "source": [
    "**HINT**: some functions you need to know: set_weights, get_weights. Create an auxiliary function to aggregate the weights. This function will receive the number of data for each client (so that the average is weighted), and the weights for each of them. \n",
    "\n",
    "Let $N$ be the number of clients and $n_i$ the number of data for each of these, remember that this aggregation function is given by:\n",
    "\n",
    "$$\n",
    "\\sum_{i=1}^{N} w_{i} \\cdot weights\\_client\\_i\n",
    "$$\n",
    "\n",
    "$$\n",
    "w_i = \\frac{n_i}{\\sum_{i=1}^{N}n_{i}} \\hspace{0.5cm} \\forall i \\in \\{1,...,N\\}\n",
    "$$"
   ]
  },
  {
   "cell_type": "code",
   "execution_count": null,
   "id": "fe910663",
   "metadata": {},
   "outputs": [],
   "source": [
    "# Evaluate each saved model (you should have model1.h5, model2.h5 and model3.h5) with the test data,\n",
    "# display and analyze the obtained results:\n",
    "\n"
   ]
  }
 ],
 "metadata": {
  "kernelspec": {
   "display_name": "Python 3 (ipykernel)",
   "language": "python",
   "name": "python3"
  },
  "language_info": {
   "codemirror_mode": {
    "name": "ipython",
    "version": 3
   },
   "file_extension": ".py",
   "mimetype": "text/x-python",
   "name": "python",
   "nbconvert_exporter": "python",
   "pygments_lexer": "ipython3",
   "version": "3.8.2"
  }
 },
 "nbformat": 4,
 "nbformat_minor": 5
}
