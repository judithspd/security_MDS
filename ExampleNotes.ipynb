{
 "cells": [
  {
   "cell_type": "markdown",
   "id": "8d0fa71a",
   "metadata": {},
   "source": [
    "# Example - Introduction to Differential Privacy (DP)"
   ]
  },
  {
   "cell_type": "code",
   "execution_count": 1,
   "id": "0174e064",
   "metadata": {},
   "outputs": [],
   "source": [
    "import numpy as np\n",
    "import random\n",
    "random.seed(1)"
   ]
  },
  {
   "cell_type": "markdown",
   "id": "a1d76df6",
   "metadata": {},
   "source": [
    "#### We generate 30 random notes between 5 and 10 (from a uniform distribution, rounding each note to 2 decimal places). We are interested in calculating the average of these notes (let's assume that each note was sent encrypted, so that we cannot see each one individually, only the average)."
   ]
  },
  {
   "cell_type": "code",
   "execution_count": 2,
   "id": "e258cd5d",
   "metadata": {},
   "outputs": [],
   "source": [
    "notes = []\n",
    "for i in range(30):\n",
    "    notes.append(round(random.uniform(5, 10), 2))"
   ]
  },
  {
   "cell_type": "code",
   "execution_count": 3,
   "id": "4981b5a7",
   "metadata": {},
   "outputs": [
    {
     "data": {
      "text/plain": [
       "[5.67,\n",
       " 9.24,\n",
       " 8.82,\n",
       " 6.28,\n",
       " 7.48,\n",
       " 7.25,\n",
       " 8.26,\n",
       " 8.94,\n",
       " 5.47,\n",
       " 5.14,\n",
       " 9.18,\n",
       " 7.16,\n",
       " 8.81,\n",
       " 5.01,\n",
       " 7.23,\n",
       " 8.61,\n",
       " 6.14,\n",
       " 9.73,\n",
       " 9.51,\n",
       " 5.15,\n",
       " 5.13,\n",
       " 7.71,\n",
       " 9.7,\n",
       " 6.91,\n",
       " 6.08,\n",
       " 7.11,\n",
       " 5.15,\n",
       " 6.11,\n",
       " 7.19,\n",
       " 7.48]"
      ]
     },
     "execution_count": 3,
     "metadata": {},
     "output_type": "execute_result"
    }
   ],
   "source": [
    "notes"
   ]
  },
  {
   "cell_type": "code",
   "execution_count": 4,
   "id": "6df712de",
   "metadata": {},
   "outputs": [
    {
     "name": "stdout",
     "output_type": "stream",
     "text": [
      "Average of all notes: 7.255000000000001\n"
     ]
    }
   ],
   "source": [
    "mean = np.mean(notes)\n",
    "print(f'Average of all notes: {mean}')"
   ]
  },
  {
   "cell_type": "markdown",
   "id": "7465603e",
   "metadata": {},
   "source": [
    "#### Suppose we now repeat this same study but without the first student: now 29 students send us their notes, again in encrypted form, and we calculate the average of these values:"
   ]
  },
  {
   "cell_type": "code",
   "execution_count": 5,
   "id": "6adde4e4",
   "metadata": {},
   "outputs": [
    {
     "name": "stdout",
     "output_type": "stream",
     "text": [
      "Average all grades except that of the first student: 7.309655172413794\n"
     ]
    }
   ],
   "source": [
    "mean_new = np.mean(notes[1:])\n",
    "print(f'Average all grades except that of the first student: {mean_new}')"
   ]
  },
  {
   "cell_type": "markdown",
   "id": "046cb17d",
   "metadata": {},
   "source": [
    "#### Now, knowing the value of the mean of all the grades, and that of all but the first student, it is very easy to infer the grade of that student.\n",
    "\n",
    "#### Be $N=30$ the number of students, $n_i$ the note of the student $i$, $\\forall i \\in \\{1,...,N\\}$, $mean_{N}$ the average value of the notes of the $N$ students, and $mean_{N-1}$ the averge considering the students $\\{n_{2},...,n_{30}\\}$, then:\n",
    "\n",
    "$$\n",
    "\\frac{\\sum_{i=1}^{N}n_{i}}{30} = mean_{N} \\hspace{0.5cm} \\mbox{and} \\hspace{0.5cm} \\frac{\\sum_{i=2}^{N}n_{i}}{29} = mean_{N-1}\n",
    "$$\n",
    "\n",
    "#### Then, we get: \n",
    "\n",
    "$$\n",
    "\\sum_{i=1}^{N}n_{i} = 30 \\cdot mean_{N}, \\hspace{0.5cm} \\sum_{i=2}^{N}n_{i} = 29 \\cdot mean_{N-1} \\Longrightarrow\n",
    "n_{1} + \\sum_{i=2}^{N}n_{i} = 30 \\cdot mean_{N} \\Longrightarrow \\boxed{n_{1} = 30 \\cdot mean_{N} - 29 \\cdot mean_{N-1}}\n",
    "$$"
   ]
  },
  {
   "cell_type": "code",
   "execution_count": 6,
   "id": "5f66603a",
   "metadata": {},
   "outputs": [
    {
     "name": "stdout",
     "output_type": "stream",
     "text": [
      "True value of the first student's note: 5.67\n",
      "Calculated value for the first student's note (rounded to 2 decimal places): 5.67\n"
     ]
    }
   ],
   "source": [
    "first_note_calculated = 30 * mean - 29 * mean_new\n",
    "print(f'''True value of the first student's note: {notes[0]}\n",
    "Calculated value for the first student's note (rounded to 2 decimal places): {round(first_note_calculated,2)}''')"
   ]
  },
  {
   "cell_type": "markdown",
   "id": "2c4ec672",
   "metadata": {},
   "source": [
    "#### To avoid this lack of privacy, we are going to add some noise to each note (i.e. a random number between -10 and 10). We will see that the average obtained is close to the real average (without the noise), but by adding this random number, we cannot know what the real value of the note is."
   ]
  },
  {
   "cell_type": "code",
   "execution_count": 7,
   "id": "56d3d8d4",
   "metadata": {},
   "outputs": [],
   "source": [
    "notes_noise = []\n",
    "for note in notes:\n",
    "    notes_noise.append(round(note + random.uniform(-10, 10), 2))"
   ]
  },
  {
   "cell_type": "code",
   "execution_count": 8,
   "id": "97fab739",
   "metadata": {},
   "outputs": [
    {
     "data": {
      "text/plain": [
       "[0.33,\n",
       " 3.86,\n",
       " 3.2,\n",
       " 5.47,\n",
       " 3.28,\n",
       " -2.32,\n",
       " 15.01,\n",
       " 10.07,\n",
       " 8.32,\n",
       " -1.14,\n",
       " 19.03,\n",
       " 14.36,\n",
       " 1.23,\n",
       " 1.66,\n",
       " 11.66,\n",
       " 12.83,\n",
       " 14.87,\n",
       " 8.17,\n",
       " 16.11,\n",
       " 8.56,\n",
       " 1.2,\n",
       " 9.46,\n",
       " 17.35,\n",
       " 13.83,\n",
       " 6.19,\n",
       " 8.89,\n",
       " -4.16,\n",
       " 0.96,\n",
       " 13.14,\n",
       " 5.77]"
      ]
     },
     "execution_count": 8,
     "metadata": {},
     "output_type": "execute_result"
    }
   ],
   "source": [
    "notes_noise"
   ]
  },
  {
   "cell_type": "code",
   "execution_count": 9,
   "id": "47a9ec5a",
   "metadata": {},
   "outputs": [
    {
     "name": "stdout",
     "output_type": "stream",
     "text": [
      "Average of all notes: 7.255000000000001\n",
      "Average of all notes with noise: 7.573000000000001\n"
     ]
    }
   ],
   "source": [
    "mean_noise = np.mean(notes_noise)\n",
    "print(f'Average of all notes: {mean}')\n",
    "print(f'Average of all notes with noise: {mean_noise}')"
   ]
  },
  {
   "cell_type": "code",
   "execution_count": 10,
   "id": "6a55f593",
   "metadata": {},
   "outputs": [
    {
     "name": "stdout",
     "output_type": "stream",
     "text": [
      "Average all notes except that of the first student: 7.309655172413794\n",
      "Average all notes except that of the first student (with noise): 7.822758620689656\n"
     ]
    }
   ],
   "source": [
    "mean_noise_new = np.mean(notes_noise[1:])\n",
    "print(f'Average all notes except that of the first student: {mean_new}')\n",
    "print(f'Average all notes except that of the first student (with noise): {mean_noise_new}')"
   ]
  },
  {
   "cell_type": "code",
   "execution_count": 11,
   "id": "8dcbaa23",
   "metadata": {},
   "outputs": [
    {
     "data": {
      "text/plain": [
       "(0.33, 0.33)"
      ]
     },
     "execution_count": 11,
     "metadata": {},
     "output_type": "execute_result"
    }
   ],
   "source": [
    "first_note_noise = 30 * np.mean(notes_noise) - 29 * np.mean(notes_noise[1:])\n",
    "round(first_note_noise, 2), notes_noise[0]"
   ]
  },
  {
   "cell_type": "markdown",
   "id": "1fe9ce7a",
   "metadata": {},
   "source": [
    "#### It is observed that when the number of random numbers generated by a uniform distribution tends to infinity, their mean tends to 0:"
   ]
  },
  {
   "cell_type": "code",
   "execution_count": 12,
   "id": "4d92c159",
   "metadata": {},
   "outputs": [
    {
     "data": {
      "text/plain": [
       "0.0032135002616634615"
      ]
     },
     "execution_count": 12,
     "metadata": {},
     "output_type": "execute_result"
    }
   ],
   "source": [
    "random_unif = []\n",
    "for _ in range(1000000):\n",
    "    random_unif.append(random.uniform(-10, 10))\n",
    "np.mean(random_unif)"
   ]
  },
  {
   "cell_type": "markdown",
   "id": "268f2e84",
   "metadata": {},
   "source": [
    "*For a justification of the above, remember the Law of Large Numbers (LLN).*"
   ]
  }
 ],
 "metadata": {
  "kernelspec": {
   "display_name": "Python 3 (ipykernel)",
   "language": "python",
   "name": "python3"
  },
  "language_info": {
   "codemirror_mode": {
    "name": "ipython",
    "version": 3
   },
   "file_extension": ".py",
   "mimetype": "text/x-python",
   "name": "python",
   "nbconvert_exporter": "python",
   "pygments_lexer": "ipython3",
   "version": "3.8.2"
  }
 },
 "nbformat": 4,
 "nbformat_minor": 5
}
